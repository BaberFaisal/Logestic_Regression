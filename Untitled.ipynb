{
  "nbformat": 4,
  "nbformat_minor": 0,
  "metadata": {
    "colab": {
      "provenance": [],
      "authorship_tag": "ABX9TyNrtFaN+y/XWLihJ1u8j/0H",
      "include_colab_link": true
    },
    "kernelspec": {
      "name": "python3",
      "display_name": "Python 3"
    },
    "language_info": {
      "name": "python"
    }
  },
  "cells": [
    {
      "cell_type": "markdown",
      "metadata": {
        "id": "view-in-github",
        "colab_type": "text"
      },
      "source": [
        "<a href=\"https://colab.research.google.com/github/BaberFaisal/Logestic_Regression/blob/main/Untitled.ipynb\" target=\"_parent\"><img src=\"https://colab.research.google.com/assets/colab-badge.svg\" alt=\"Open In Colab\"/></a>"
      ]
    },
    {
      "cell_type": "code",
      "execution_count": 1,
      "metadata": {
        "id": "LeCBk-B-9Nu3"
      },
      "outputs": [],
      "source": [
        "# Import packages\n",
        "import sklearn.metrics as metrics\n",
        "import pandas as pd\n",
        "import seaborn as sns"
      ]
    },
    {
      "cell_type": "code",
      "source": [],
      "metadata": {
        "id": "0khNMj109T5h"
      },
      "execution_count": 2,
      "outputs": []
    },
    {
      "cell_type": "code",
      "source": [
        "# Load in if csv file is in the same folder as notebook\n",
        "activity = pd.read_csv(\"activity.csv\")# Get summary statistics about the dataset\n",
        "activity.describe()"
      ],
      "metadata": {
        "id": "YI8iQxpp9X08"
      },
      "execution_count": null,
      "outputs": []
    },
    {
      "cell_type": "code",
      "source": [
        "# Examine the dataset\n",
        "activity.head()"
      ],
      "metadata": {
        "id": "yn32BwDN9bJB"
      },
      "execution_count": null,
      "outputs": []
    },
    {
      "cell_type": "code",
      "source": [
        "# Load in sci-kit learn functions for constructing logistic regression\n",
        "from sklearn.model_selection import train_test_split\n",
        "from sklearn.linear_model import LogisticRegression"
      ],
      "metadata": {
        "id": "p_dlX0m59fEX"
      },
      "execution_count": null,
      "outputs": []
    },
    {
      "cell_type": "code",
      "source": [
        "# Save X and y data into variables\n",
        "X = activity[[\"Acc (vertical)\"]]\n",
        "y = activity[[\"LyingDown\"]]"
      ],
      "metadata": {
        "id": "DhWNs4lD9iur"
      },
      "execution_count": null,
      "outputs": []
    },
    {
      "cell_type": "code",
      "source": [
        "# Split dataset into training and holdout datasets\n",
        "X_train, X_test, y_train, y_test = train_test_split(X,y, test_size=0.3, random_state=42)"
      ],
      "metadata": {
        "id": "Lq6KKWmN9l4k"
      },
      "execution_count": null,
      "outputs": []
    },
    {
      "cell_type": "code",
      "source": [
        "clf = LogisticRegression().fit(X_train,y_train)"
      ],
      "metadata": {
        "id": "vqGg2RKG9qbx"
      },
      "execution_count": null,
      "outputs": []
    },
    {
      "cell_type": "code",
      "source": [
        "# Print the coefficient\n",
        "clf.coef_"
      ],
      "metadata": {
        "id": "E7j0SNT29s9d"
      },
      "execution_count": null,
      "outputs": []
    },
    {
      "cell_type": "code",
      "source": [
        "# Print the intercept\n",
        "clf.intercept_"
      ],
      "metadata": {
        "id": "_vu7CX319wwW"
      },
      "execution_count": null,
      "outputs": []
    },
    {
      "cell_type": "code",
      "source": [
        "# Plot the logistic regression and its confidence band\n",
        "sns.regplot(x=\"Acc (vertical)\", y=\"LyingDown\", data=activity, logistic=True)"
      ],
      "metadata": {
        "id": "nAMI4jtQ9zJ7"
      },
      "execution_count": null,
      "outputs": []
    },
    {
      "cell_type": "code",
      "source": [
        "# Split data into training and holdout samples\n",
        "X_train, X_test, y_train, y_test = train_test_split(X, y, test_size=0.3, random_state=42)\n",
        "\n",
        "# Build regression model\n",
        "clf = LogisticRegression().fit(X_train,y_train)\n",
        "\n",
        "# Save predictions\n",
        "y_pred = clf.predict(X_test)"
      ],
      "metadata": {
        "id": "ZNhqHCFq94Wv"
      },
      "execution_count": null,
      "outputs": []
    },
    {
      "cell_type": "code",
      "source": [
        "# Print out the predicted labels\n",
        "clf.predict(X_test)"
      ],
      "metadata": {
        "id": "XRwZ15zt98Q6"
      },
      "execution_count": null,
      "outputs": []
    },
    {
      "cell_type": "code",
      "source": [
        "# Print out the predicted probabilities\n",
        "clf.predict_proba(X_test)[::,-1]"
      ],
      "metadata": {
        "id": "7sA3YN6P9_Ny"
      },
      "execution_count": null,
      "outputs": []
    },
    {
      "cell_type": "code",
      "source": [
        "# Import the metrics module from scikit-learn\n",
        "import sklearn.metrics as metrics"
      ],
      "metadata": {
        "id": "YdmVX_Wr-DBn"
      },
      "execution_count": null,
      "outputs": []
    },
    {
      "cell_type": "code",
      "source": [
        "# Calculate the values for each quadrant in the confusion matrix\n",
        "cm = metrics.confusion_matrix(y_test, y_pred, labels = clf.classes_)"
      ],
      "metadata": {
        "id": "-j-4cM4d-HAi"
      },
      "execution_count": null,
      "outputs": []
    },
    {
      "cell_type": "code",
      "source": [
        "# Create the confusion matrix as a visualization\n",
        "disp = metrics.ConfusionMatrixDisplay(confusion_matrix = cm,display_labels = clf.classes_)"
      ],
      "metadata": {
        "id": "y2lavjH8-KaP"
      },
      "execution_count": null,
      "outputs": []
    },
    {
      "cell_type": "code",
      "source": [
        "# Display the confusion matrix\n",
        "disp.plot()"
      ],
      "metadata": {
        "id": "vaH-kmzW-NMD"
      },
      "execution_count": null,
      "outputs": []
    },
    {
      "cell_type": "code",
      "source": [
        "metrics.precision_score(y_test, y_pred)"
      ],
      "metadata": {
        "id": "QjeQZBkF-Un4"
      },
      "execution_count": null,
      "outputs": []
    },
    {
      "cell_type": "code",
      "source": [
        "metrics.accuracy_score(y_test, y_pred)"
      ],
      "metadata": {
        "id": "3ywv43x2-Yqx"
      },
      "execution_count": null,
      "outputs": []
    },
    {
      "cell_type": "code",
      "source": [
        "#Recall\n",
        "metrics.recall_score(y_test, y_pred)"
      ],
      "metadata": {
        "id": "9hVi_VZt-dQp"
      },
      "execution_count": null,
      "outputs": []
    },
    {
      "cell_type": "code",
      "source": [],
      "metadata": {
        "id": "ix9LXfsY-szf"
      },
      "execution_count": null,
      "outputs": []
    }
  ]
}